{
 "cells": [
  {
   "cell_type": "code",
   "execution_count": 1,
   "metadata": {},
   "outputs": [],
   "source": [
    "import networkx as nx\n",
    "import numpy as np\n",
    "import pandas as pd\n",
    "from visualize_lp_solution import load_tiff_frames\n",
    "from ctc_fluo_metrics import filter_to_migration_sol\n",
    "import napari\n",
    "from napari_graph import DirectedGraph\n",
    "from napari.layers import Graph"
   ]
  },
  {
   "cell_type": "code",
   "execution_count": 2,
   "metadata": {},
   "outputs": [],
   "source": [
    "def assign_track_id(sol):\n",
    "    \"\"\"Assign unique integer track ID to each node. \n",
    "\n",
    "    Nodes that have more than one incoming edge, or more than\n",
    "    two children get assigned track ID -1.\n",
    "\n",
    "    Args:\n",
    "        sol (nx.DiGraph): directed solution graph\n",
    "    \"\"\"\n",
    "    roots = [node for node in sol.nodes if sol.in_degree(node) == 0]\n",
    "    nx.set_node_attributes(sol, -1, 'track-id')\n",
    "    track_id = 1\n",
    "    for root in roots:\n",
    "        for edge_key in nx.dfs_edges(sol, root):\n",
    "            source, dest = edge_key[0], edge_key[1]\n",
    "            source_out = sol.out_degree(source)\n",
    "            # true root\n",
    "            if sol.in_degree(source) == 0:\n",
    "                sol.nodes[source]['track-id'] = track_id\n",
    "            # merge into dest or triple split from source\n",
    "            elif sol.in_degree(dest) > 1 or source_out > 2:\n",
    "                sol.nodes[source]['track-id'] = -1\n",
    "                sol.nodes[dest]['track-id'] = -1\n",
    "                continue\n",
    "            # double parent_split\n",
    "            elif source_out == 2:\n",
    "                track_id += 1\n",
    "            sol.nodes[dest]['track-id'] = track_id\n",
    "        track_id += 1\n",
    "\n",
    "def mask_by_id(nodes, seg):\n",
    "    masks = np.zeros_like(seg)\n",
    "    max_id = nodes['track-id'].max()\n",
    "    for i in range(1, max_id+1):\n",
    "        track_nodes = nodes[nodes['track-id'] == i]\n",
    "        for row in track_nodes.itertuples():\n",
    "            t = row.t\n",
    "            orig_label = row.label\n",
    "            mask = seg[t] == orig_label\n",
    "            masks[t][mask] = row._11 + 1\n",
    "    \n",
    "    # colour weird vertices with 1\n",
    "    unassigned = nodes[nodes['track-id'] == -1]\n",
    "    for row in unassigned.itertuples():\n",
    "        t = row.t\n",
    "        orig_label = row.label\n",
    "        mask = seg[t] == orig_label\n",
    "        masks[t][mask] = 1\n",
    "\n",
    "    return masks\n",
    "\n",
    "def get_point_colour(sol, merges, bad_parents):\n",
    "    merges = set(merges)\n",
    "    bad_parents = set(bad_parents)\n",
    "    colours = ['white' for _ in range(sol.number_of_nodes())]\n",
    "    for node in merges:\n",
    "        parents = [edge[0] for edge in sol.in_edges(node)]\n",
    "        children = [edge[1] for edge in sol.out_edges(node)]\n",
    "\n",
    "        # colour the parents orange\n",
    "        for parent in parents:\n",
    "            colours[parent] = 'orange'\n",
    "        # colour the merge node red\n",
    "        colours[node] = 'red'\n",
    "        # colour the children yellow\n",
    "        for child in children:\n",
    "            colours[child] = 'yellow'\n",
    "\n",
    "    for node in bad_parents:\n",
    "        children = [edge[1] for edge in sol.out_edges(node)]\n",
    "        # colour children pink\n",
    "        for child in children:\n",
    "            colours[child] =  'pink'\n",
    "        # colour parent purple\n",
    "        colours[node] = 'purple'\n",
    "    return colours"
   ]
  },
  {
   "cell_type": "code",
   "execution_count": 3,
   "metadata": {},
   "outputs": [],
   "source": [
    "def get_colour_vs_of_interest(graph, vs, pred_colour, v_colour, succ_colour, orig_colour=None):\n",
    "    if orig_colour is None:\n",
    "        colours = ['white' for _ in range(list(graph.nodes)[-1]+1)]\n",
    "    else:\n",
    "        colours = orig_colour\n",
    "    for node in vs:\n",
    "        parents = [edge[0] for edge in graph.in_edges(node)]\n",
    "        children = [edge[1] for edge in graph.out_edges(node)]\n",
    "        # colour the parents orange\n",
    "        for parent in parents:\n",
    "            colours[parent] = pred_colour\n",
    "        # colour the merge node red\n",
    "        colours[node] = v_colour\n",
    "        # colour the children yellow\n",
    "        for child in children:\n",
    "            colours[child] = succ_colour\n",
    "    return colours"
   ]
  },
  {
   "cell_type": "code",
   "execution_count": 4,
   "metadata": {},
   "outputs": [],
   "source": [
    "def store_colour_vs_of_interest(graph, vs, pred_colour, v_colour, succ_colour, orig_colour=False):\n",
    "    if not orig_colour:\n",
    "        nx.set_node_attributes(graph, 'white', 'color')\n",
    "    for node in vs:\n",
    "        parents = [edge[0] for edge in graph.in_edges(node)]\n",
    "        children = [edge[1] for edge in graph.out_edges(node)]\n",
    "        # colour the parents orange\n",
    "        for parent in parents:\n",
    "            graph.nodes[parent]['color'] = pred_colour\n",
    "        # colour the merge node red\n",
    "        graph.nodes[node]['color'] = v_colour\n",
    "        # colour the children yellow\n",
    "        for child in children:\n",
    "            graph.nodes[child]['color'] = succ_colour"
   ]
  },
  {
   "cell_type": "markdown",
   "metadata": {},
   "source": [
    "## Load images, segmentation and Gold Standard Ground Truth"
   ]
  },
  {
   "cell_type": "code",
   "execution_count": 6,
   "metadata": {},
   "outputs": [],
   "source": [
    "seg = load_tiff_frames('/home/draga/PhD/data/cell_tracking_challenge/ST_Segmentations/Fluo-N2DL-HeLa/01_ST/SEG/')\n",
    "data = load_tiff_frames('/home/draga/PhD/data/cell_tracking_challenge/ST_Segmentations/Fluo-N2DL-HeLa/01/')\n",
    "truth = load_tiff_frames('/home/draga/PhD/data/cell_tracking_challenge/ST_Segmentations/Fluo-N2DL-HeLa/01_GT/TRA/')"
   ]
  },
  {
   "cell_type": "markdown",
   "metadata": {},
   "source": [
    "## Load unchanged model solution"
   ]
  },
  {
   "cell_type": "code",
   "execution_count": 8,
   "metadata": {},
   "outputs": [],
   "source": [
    "sol = nx.read_graphml('/home/draga/PhD/data/cell_tracking_challenge/ST_Segmentations/Fluo-N2DL-HeLa/01_RES_IC/full_sol.graphml', node_type=int)\n",
    "assign_track_id(sol)\n",
    "node_df = pd.DataFrame.from_dict(sol.nodes, orient='index')\n",
    "sol_mask = mask_by_id(node_df, seg)\n",
    "\n",
    "merges = [node for node in sol.nodes if sol.in_degree(node) > 1]\n",
    "bad_parents = [node for node in sol.nodes if sol.out_degree(node) > 2]\n",
    "\n",
    "merge_edges = [edge for node in merges for edge in sol.in_edges(node)]\n",
    "merge_edges.extend([edge for node in merges for edge in sol.out_edges(node)])"
   ]
  },
  {
   "cell_type": "markdown",
   "metadata": {},
   "source": [
    "### Colour original merge vertices, their predecessors, and successors grey"
   ]
  },
  {
   "cell_type": "code",
   "execution_count": 9,
   "metadata": {},
   "outputs": [],
   "source": [
    "store_colour_vs_of_interest(sol, set(merges + bad_parents), 'silver', 'black', 'gray')"
   ]
  },
  {
   "cell_type": "markdown",
   "metadata": {},
   "source": [
    "## Load opinionated oracle solution"
   ]
  },
  {
   "cell_type": "code",
   "execution_count": 15,
   "metadata": {},
   "outputs": [],
   "source": [
    "fixed_sol = nx.read_graphml('/home/draga/PhD/data/cell_tracking_challenge/ST_Segmentations/Fluo-N2DL-HeLa/01_RES_IC/oracle_introduced_mig_near_parent.graphml', node_type=int)\n",
    "filter_to_migration_sol(fixed_sol)\n",
    "fixed_node_df = pd.DataFrame.from_dict(fixed_sol.nodes, orient='index')\n",
    "\n",
    "still_merges = [node for node in fixed_sol.nodes if fixed_sol.in_degree(node) > 1]\n",
    "still_bad_parents = [node for node in fixed_sol.nodes if fixed_sol.out_degree(node) > 2]"
   ]
  },
  {
   "cell_type": "code",
   "execution_count": 16,
   "metadata": {},
   "outputs": [
    {
     "data": {
      "text/html": [
       "<div>\n",
       "<style scoped>\n",
       "    .dataframe tbody tr th:only-of-type {\n",
       "        vertical-align: middle;\n",
       "    }\n",
       "\n",
       "    .dataframe tbody tr th {\n",
       "        vertical-align: top;\n",
       "    }\n",
       "\n",
       "    .dataframe thead th {\n",
       "        text-align: right;\n",
       "    }\n",
       "</style>\n",
       "<table border=\"1\" class=\"dataframe\">\n",
       "  <thead>\n",
       "    <tr style=\"text-align: right;\">\n",
       "      <th></th>\n",
       "      <th>Unnamed: 0</th>\n",
       "      <th>merge_id</th>\n",
       "      <th>new_id</th>\n",
       "      <th>t</th>\n",
       "      <th>y</th>\n",
       "      <th>x</th>\n",
       "      <th>new_label</th>\n",
       "    </tr>\n",
       "  </thead>\n",
       "  <tbody>\n",
       "    <tr>\n",
       "      <th>0</th>\n",
       "      <td>0</td>\n",
       "      <td>467</td>\n",
       "      <td>8606</td>\n",
       "      <td>9</td>\n",
       "      <td>505.0</td>\n",
       "      <td>907.0</td>\n",
       "      <td>390</td>\n",
       "    </tr>\n",
       "    <tr>\n",
       "      <th>1</th>\n",
       "      <td>1</td>\n",
       "      <td>576</td>\n",
       "      <td>8607</td>\n",
       "      <td>11</td>\n",
       "      <td>505.0</td>\n",
       "      <td>907.0</td>\n",
       "      <td>391</td>\n",
       "    </tr>\n",
       "    <tr>\n",
       "      <th>2</th>\n",
       "      <td>2</td>\n",
       "      <td>2314</td>\n",
       "      <td>8608</td>\n",
       "      <td>37</td>\n",
       "      <td>435.0</td>\n",
       "      <td>177.0</td>\n",
       "      <td>392</td>\n",
       "    </tr>\n",
       "    <tr>\n",
       "      <th>3</th>\n",
       "      <td>3</td>\n",
       "      <td>2514</td>\n",
       "      <td>8609</td>\n",
       "      <td>39</td>\n",
       "      <td>509.0</td>\n",
       "      <td>906.0</td>\n",
       "      <td>393</td>\n",
       "    </tr>\n",
       "    <tr>\n",
       "      <th>4</th>\n",
       "      <td>4</td>\n",
       "      <td>2585</td>\n",
       "      <td>8610</td>\n",
       "      <td>40</td>\n",
       "      <td>506.0</td>\n",
       "      <td>911.0</td>\n",
       "      <td>394</td>\n",
       "    </tr>\n",
       "    <tr>\n",
       "      <th>5</th>\n",
       "      <td>5</td>\n",
       "      <td>2667</td>\n",
       "      <td>8611</td>\n",
       "      <td>41</td>\n",
       "      <td>507.0</td>\n",
       "      <td>905.0</td>\n",
       "      <td>395</td>\n",
       "    </tr>\n",
       "    <tr>\n",
       "      <th>6</th>\n",
       "      <td>6</td>\n",
       "      <td>2757</td>\n",
       "      <td>8612</td>\n",
       "      <td>42</td>\n",
       "      <td>505.0</td>\n",
       "      <td>908.0</td>\n",
       "      <td>396</td>\n",
       "    </tr>\n",
       "    <tr>\n",
       "      <th>7</th>\n",
       "      <td>7</td>\n",
       "      <td>3628</td>\n",
       "      <td>8613</td>\n",
       "      <td>51</td>\n",
       "      <td>448.0</td>\n",
       "      <td>184.0</td>\n",
       "      <td>397</td>\n",
       "    </tr>\n",
       "    <tr>\n",
       "      <th>8</th>\n",
       "      <td>8</td>\n",
       "      <td>3872</td>\n",
       "      <td>8614</td>\n",
       "      <td>53</td>\n",
       "      <td>448.0</td>\n",
       "      <td>184.0</td>\n",
       "      <td>398</td>\n",
       "    </tr>\n",
       "    <tr>\n",
       "      <th>9</th>\n",
       "      <td>9</td>\n",
       "      <td>4075</td>\n",
       "      <td>8615</td>\n",
       "      <td>55</td>\n",
       "      <td>448.0</td>\n",
       "      <td>184.0</td>\n",
       "      <td>399</td>\n",
       "    </tr>\n",
       "    <tr>\n",
       "      <th>10</th>\n",
       "      <td>10</td>\n",
       "      <td>4208</td>\n",
       "      <td>8616</td>\n",
       "      <td>56</td>\n",
       "      <td>448.0</td>\n",
       "      <td>184.0</td>\n",
       "      <td>400</td>\n",
       "    </tr>\n",
       "    <tr>\n",
       "      <th>11</th>\n",
       "      <td>11</td>\n",
       "      <td>4669</td>\n",
       "      <td>8617</td>\n",
       "      <td>60</td>\n",
       "      <td>445.0</td>\n",
       "      <td>180.0</td>\n",
       "      <td>401</td>\n",
       "    </tr>\n",
       "    <tr>\n",
       "      <th>12</th>\n",
       "      <td>12</td>\n",
       "      <td>4784</td>\n",
       "      <td>8618</td>\n",
       "      <td>61</td>\n",
       "      <td>442.0</td>\n",
       "      <td>180.0</td>\n",
       "      <td>402</td>\n",
       "    </tr>\n",
       "    <tr>\n",
       "      <th>13</th>\n",
       "      <td>13</td>\n",
       "      <td>4901</td>\n",
       "      <td>8619</td>\n",
       "      <td>62</td>\n",
       "      <td>442.0</td>\n",
       "      <td>180.0</td>\n",
       "      <td>403</td>\n",
       "    </tr>\n",
       "    <tr>\n",
       "      <th>14</th>\n",
       "      <td>14</td>\n",
       "      <td>5113</td>\n",
       "      <td>8620</td>\n",
       "      <td>64</td>\n",
       "      <td>444.0</td>\n",
       "      <td>182.0</td>\n",
       "      <td>404</td>\n",
       "    </tr>\n",
       "    <tr>\n",
       "      <th>15</th>\n",
       "      <td>15</td>\n",
       "      <td>5232</td>\n",
       "      <td>8621</td>\n",
       "      <td>65</td>\n",
       "      <td>442.0</td>\n",
       "      <td>177.0</td>\n",
       "      <td>405</td>\n",
       "    </tr>\n",
       "    <tr>\n",
       "      <th>16</th>\n",
       "      <td>16</td>\n",
       "      <td>5353</td>\n",
       "      <td>8622</td>\n",
       "      <td>66</td>\n",
       "      <td>442.0</td>\n",
       "      <td>177.0</td>\n",
       "      <td>406</td>\n",
       "    </tr>\n",
       "  </tbody>\n",
       "</table>\n",
       "</div>"
      ],
      "text/plain": [
       "    Unnamed: 0  merge_id  new_id   t      y      x  new_label\n",
       "0            0       467    8606   9  505.0  907.0        390\n",
       "1            1       576    8607  11  505.0  907.0        391\n",
       "2            2      2314    8608  37  435.0  177.0        392\n",
       "3            3      2514    8609  39  509.0  906.0        393\n",
       "4            4      2585    8610  40  506.0  911.0        394\n",
       "5            5      2667    8611  41  507.0  905.0        395\n",
       "6            6      2757    8612  42  505.0  908.0        396\n",
       "7            7      3628    8613  51  448.0  184.0        397\n",
       "8            8      3872    8614  53  448.0  184.0        398\n",
       "9            9      4075    8615  55  448.0  184.0        399\n",
       "10          10      4208    8616  56  448.0  184.0        400\n",
       "11          11      4669    8617  60  445.0  180.0        401\n",
       "12          12      4784    8618  61  442.0  180.0        402\n",
       "13          13      4901    8619  62  442.0  180.0        403\n",
       "14          14      5113    8620  64  444.0  182.0        404\n",
       "15          15      5232    8621  65  442.0  177.0        405\n",
       "16          16      5353    8622  66  442.0  177.0        406"
      ]
     },
     "execution_count": 16,
     "metadata": {},
     "output_type": "execute_result"
    }
   ],
   "source": [
    "introduced"
   ]
  },
  {
   "cell_type": "code",
   "execution_count": 17,
   "metadata": {},
   "outputs": [],
   "source": [
    "# introduced_vertices\n",
    "introduced = pd.read_csv('/home/draga/PhD/data/cell_tracking_challenge/ST_Segmentations/Fluo-N2DL-HeLa/01_RES_IC/oracle_introduced.csv')\n",
    "introduced_vs = list(introduced['new_id'])\n",
    "store_colour_vs_of_interest(fixed_sol, introduced_vs, 'springgreen', 'darkgreen', 'limegreen')\n",
    "store_colour_vs_of_interest(fixed_sol, set(still_merges + still_bad_parents), 'coral', 'red', 'maroon', True)"
   ]
  },
  {
   "cell_type": "markdown",
   "metadata": {},
   "source": [
    "## Load vertex introduction only oracle solution"
   ]
  },
  {
   "cell_type": "code",
   "execution_count": 18,
   "metadata": {},
   "outputs": [],
   "source": [
    "vertex_sol = nx.read_graphml('/home/draga/PhD/data/cell_tracking_challenge/ST_Segmentations/Fluo-N2DL-HeLa/01_RES_IC/oracle_introduced_near_parent_no_edges.graphml', node_type=int)\n",
    "filter_to_migration_sol(vertex_sol)\n",
    "vertices_node_df = pd.DataFrame.from_dict(vertex_sol.nodes, orient='index')\n",
    "\n",
    "vertex_sol_merges = [node for node in vertex_sol.nodes if vertex_sol.in_degree(node) > 1]\n",
    "vertex_sol_bad_parents = [node for node in vertex_sol.nodes if vertex_sol.out_degree(node) > 2]"
   ]
  },
  {
   "cell_type": "code",
   "execution_count": 19,
   "metadata": {},
   "outputs": [],
   "source": [
    "store_colour_vs_of_interest(vertex_sol, introduced_vs, 'springgreen', 'darkgreen', 'limegreen')\n",
    "store_colour_vs_of_interest(vertex_sol, set(vertex_sol_merges + vertex_sol_bad_parents), 'coral', 'red', 'maroon', True)"
   ]
  },
  {
   "cell_type": "code",
   "execution_count": null,
   "metadata": {},
   "outputs": [
    {
     "data": {
      "text/plain": [
       "OutEdgeDataView([(3056, 3155)])"
      ]
     },
     "execution_count": 35,
     "metadata": {},
     "output_type": "execute_result"
    }
   ],
   "source": [
    "vertex_sol.out_edges(3056)"
   ]
  },
  {
   "cell_type": "markdown",
   "metadata": {},
   "source": [
    "## Load into napari"
   ]
  },
  {
   "cell_type": "markdown",
   "metadata": {},
   "source": [
    "### Original solution"
   ]
  },
  {
   "cell_type": "code",
   "execution_count": 20,
   "metadata": {},
   "outputs": [],
   "source": [
    "\n",
    "coords_df = node_df[['t', 'y', 'x']]\n",
    "merge_graph = DirectedGraph(edges=merge_edges, coords=coords_df)\n",
    "layer = Graph(\n",
    "    merge_graph, \n",
    "    out_of_slice_display=True,\n",
    "    ndim=3, \n",
    "    # scale=(50, 1, 1), \n",
    "    size=5, \n",
    "    properties=node_df,\n",
    "    face_color=list(nx.get_node_attributes(sol, \"color\").values()),\n",
    ")\n",
    "\n",
    "full_graph = DirectedGraph(edges=list(sol.edges.keys()), coords=coords_df)\n",
    "full_layer = Graph(\n",
    "    full_graph, \n",
    "    out_of_slice_display=True,\n",
    "    ndim=3, \n",
    "    # scale=(50, 1, 1), \n",
    "    size=5, \n",
    "    properties=node_df,\n",
    "    face_color=list(nx.get_node_attributes(sol, \"color\").values()),\n",
    ")"
   ]
  },
  {
   "cell_type": "code",
   "execution_count": null,
   "metadata": {},
   "outputs": [],
   "source": []
  },
  {
   "cell_type": "markdown",
   "metadata": {},
   "source": [
    "### Fixed edges solution"
   ]
  },
  {
   "cell_type": "code",
   "execution_count": 21,
   "metadata": {},
   "outputs": [],
   "source": [
    "fixed_coords = fixed_node_df[['t', 'y', 'x']]\n",
    "fixed_edge_graph = DirectedGraph(edges=list(fixed_sol.edges.keys()), coords=fixed_coords)\n",
    "fixed_layer = Graph(\n",
    "    fixed_edge_graph, \n",
    "    out_of_slice_display=True,\n",
    "    # ndim=3, \n",
    "    # scale=(50, 1, 1), \n",
    "    size=5, \n",
    "    properties=fixed_node_df,\n",
    "    face_color=list(nx.get_node_attributes(fixed_sol, \"color\").values()),\n",
    ")"
   ]
  },
  {
   "cell_type": "markdown",
   "metadata": {},
   "source": [
    "### Just vertices solution"
   ]
  },
  {
   "cell_type": "code",
   "execution_count": 22,
   "metadata": {},
   "outputs": [],
   "source": [
    "vertices_coords = vertices_node_df[['t', 'y', 'x']]\n",
    "vertices_graph = DirectedGraph(edges=list(vertex_sol.edges.keys()), coords=vertices_coords)\n",
    "vertices_layer = Graph(\n",
    "    vertices_graph, \n",
    "    out_of_slice_display=True,\n",
    "    # ndim=3, \n",
    "    # scale=(50, 1, 1), \n",
    "    size=5, \n",
    "    properties=vertices_node_df,\n",
    "    face_color=list(nx.get_node_attributes(vertex_sol, \"color\").values()),\n",
    ")"
   ]
  },
  {
   "cell_type": "code",
   "execution_count": 23,
   "metadata": {},
   "outputs": [
    {
     "name": "stderr",
     "output_type": "stream",
     "text": [
      "/home/draga/miniconda3/envs/napari-graph/lib/python3.9/site-packages/skimage/_shared/utils.py:394: UserWarning: Color data out of range: Z < 0 in 20 pixels\n",
      "  return func(*args, **kwargs)\n",
      "/home/draga/miniconda3/envs/napari-graph/lib/python3.9/site-packages/skimage/_shared/utils.py:394: UserWarning: Color data out of range: Z < 0 in 20 pixels\n",
      "  return func(*args, **kwargs)\n",
      "/home/draga/miniconda3/envs/napari-graph/lib/python3.9/site-packages/skimage/_shared/utils.py:394: UserWarning: Color data out of range: Z < 0 in 20 pixels\n",
      "  return func(*args, **kwargs)\n"
     ]
    },
    {
     "data": {
      "text/plain": [
       "<Graph layer 'vertices_graph' at 0x7f26bba56190>"
      ]
     },
     "execution_count": 23,
     "metadata": {},
     "output_type": "execute_result"
    }
   ],
   "source": [
    "viewer = napari.Viewer()\n",
    "viewer.add_image(data)\n",
    "viewer.add_labels(\n",
    "    seg,\n",
    "    # scale=(50, 1, 1), \n",
    ")\n",
    "viewer.add_labels(\n",
    "    sol_mask,\n",
    "    name='Solution'\n",
    ")\n",
    "viewer.add_labels(truth)\n",
    "viewer.add_layer(layer)\n",
    "viewer.add_layer(full_layer)\n",
    "viewer.add_layer(fixed_layer)\n",
    "viewer.add_layer(vertices_layer)"
   ]
  },
  {
   "cell_type": "code",
   "execution_count": null,
   "metadata": {},
   "outputs": [],
   "source": []
  }
 ],
 "metadata": {
  "kernelspec": {
   "display_name": "napari-graph",
   "language": "python",
   "name": "python3"
  },
  "language_info": {
   "codemirror_mode": {
    "name": "ipython",
    "version": 3
   },
   "file_extension": ".py",
   "mimetype": "text/x-python",
   "name": "python",
   "nbconvert_exporter": "python",
   "pygments_lexer": "ipython3",
   "version": "3.9.13"
  },
  "orig_nbformat": 2
 },
 "nbformat": 4,
 "nbformat_minor": 2
}
