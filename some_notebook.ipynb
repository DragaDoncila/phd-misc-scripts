{
 "cells": [
  {
   "cell_type": "code",
   "execution_count": 1,
   "metadata": {},
   "outputs": [],
   "source": [
    "import networkx as nx\n",
    "import numpy as np\n",
    "import pandas as pd\n",
    "from visualize_lp_solution import load_tiff_frames\n",
    "import napari\n",
    "from napari_graph import DirectedGraph\n",
    "from napari.layers import Graph"
   ]
  },
  {
   "cell_type": "code",
   "execution_count": 2,
   "metadata": {},
   "outputs": [],
   "source": [
    "def assign_track_id(sol):\n",
    "    \"\"\"Assign unique integer track ID to each node. \n",
    "\n",
    "    Nodes that have more than one incoming edge, or more than\n",
    "    two children get assigned track ID -1.\n",
    "\n",
    "    Args:\n",
    "        sol (nx.DiGraph): directed solution graph\n",
    "    \"\"\"\n",
    "    roots = [node for node in sol.nodes if sol.in_degree(node) == 0]\n",
    "    nx.set_node_attributes(sol, -1, 'track-id')\n",
    "    track_id = 1\n",
    "    for root in roots:\n",
    "        for edge_key in nx.dfs_edges(sol, root):\n",
    "            source, dest = edge_key[0], edge_key[1]\n",
    "            source_out = sol.out_degree(source)\n",
    "            # true root\n",
    "            if sol.in_degree(source) == 0:\n",
    "                sol.nodes[source]['track-id'] = track_id\n",
    "            # merge into dest or triple split from source\n",
    "            elif sol.in_degree(dest) > 1 or source_out > 2:\n",
    "                sol.nodes[source]['track-id'] = -1\n",
    "                sol.nodes[dest]['track-id'] = -1\n",
    "                continue\n",
    "            # double parent_split\n",
    "            elif source_out == 2:\n",
    "                track_id += 1\n",
    "            sol.nodes[dest]['track-id'] = track_id\n",
    "        track_id += 1\n",
    "\n",
    "def mask_by_id(nodes, seg):\n",
    "    masks = np.zeros_like(seg)\n",
    "    max_id = nodes['track-id'].max()\n",
    "    for i in range(1, max_id+1):\n",
    "        track_nodes = nodes[nodes['track-id'] == i]\n",
    "        for row in track_nodes.itertuples():\n",
    "            t = row.t\n",
    "            orig_label = row.label\n",
    "            mask = seg[t] == orig_label\n",
    "            masks[t][mask] = row._11 + 1\n",
    "    \n",
    "    # colour weird vertices with 1\n",
    "    unassigned = nodes[nodes['track-id'] == -1]\n",
    "    for row in unassigned.itertuples():\n",
    "        t = row.t\n",
    "        orig_label = row.label\n",
    "        mask = seg[t] == orig_label\n",
    "        masks[t][mask] = 1\n",
    "\n",
    "    return masks\n",
    "\n",
    "def get_point_colour(sol, merges, bad_parents):\n",
    "    merges = set(merges)\n",
    "    bad_parents = set(bad_parents)\n",
    "    colours = ['white' for _ in range(sol.number_of_nodes())]\n",
    "    for node in merges:\n",
    "        parents = [edge[0] for edge in sol.in_edges(node)]\n",
    "        children = [edge[1] for edge in sol.out_edges(node)]\n",
    "\n",
    "        # colour the parents orange\n",
    "        for parent in parents:\n",
    "            colours[parent] = 'orange'\n",
    "        # colour the merge node red\n",
    "        colours[node] = 'red'\n",
    "        # colour the children yellow\n",
    "        for child in children:\n",
    "            colours[child] = 'yellow'\n",
    "\n",
    "    for node in bad_parents:\n",
    "        children = [edge[1] for edge in sol.out_edges(node)]\n",
    "        # colour children pink\n",
    "        for child in children:\n",
    "            colours[child] =  'pink'\n",
    "        # colour parent purple\n",
    "        colours[node] = 'purple'\n",
    "    return colours"
   ]
  },
  {
   "cell_type": "code",
   "execution_count": 3,
   "metadata": {},
   "outputs": [],
   "source": [
    "seg = load_tiff_frames('/home/draga/PhD/data/cell_tracking_challenge/Fluo-N2DL-HeLa/01_ST/SEG/')\n",
    "data = load_tiff_frames('/home/draga/PhD/data/cell_tracking_challenge/Fluo-N2DL-HeLa/01/')\n",
    "truth = load_tiff_frames('/home/draga/PhD/data/cell_tracking_challenge/Fluo-N2DL-HeLa/01_GT/TRA/')\n",
    "\n",
    "sol = nx.read_graphml('/home/draga/PhD/data/cell_tracking_challenge/Fluo-N2DL-HeLa/01_RES_IC/full_sol.graphml', node_type=int)\n",
    "assign_track_id(sol)\n",
    "node_df = pd.DataFrame.from_dict(sol.nodes, orient='index')\n",
    "sol_mask = mask_by_id(node_df, seg)\n",
    "\n",
    "merges = [node for node in sol.nodes if sol.in_degree(node) > 1]\n",
    "bad_parents = [node for node in sol.nodes if sol.out_degree(node) > 2]\n",
    "\n",
    "merge_edges = [edge for node in merges for edge in sol.in_edges(node)]\n",
    "merge_edges.extend([edge for node in merges for edge in sol.out_edges(node)])"
   ]
  },
  {
   "cell_type": "code",
   "execution_count": 4,
   "metadata": {},
   "outputs": [],
   "source": [
    "colors = get_point_colour(sol, merges, bad_parents)\n",
    "\n",
    "coords_df = node_df[['t', 'y', 'x']]\n",
    "merge_graph = DirectedGraph(edges=merge_edges, coords=coords_df)\n",
    "layer = Graph(\n",
    "    merge_graph, \n",
    "    out_of_slice_display=True,\n",
    "    ndim=3, \n",
    "    # scale=(50, 1, 1), \n",
    "    size=5, \n",
    "    properties=node_df,\n",
    "    face_color=colors,\n",
    ")\n",
    "\n",
    "full_graph = DirectedGraph(edges=list(sol.edges.keys()), coords=coords_df)\n",
    "full_layer = Graph(\n",
    "    full_graph, \n",
    "    out_of_slice_display=True,\n",
    "    ndim=3, \n",
    "    # scale=(50, 1, 1), \n",
    "    size=5, \n",
    "    properties=node_df,\n",
    "    face_color=colors,\n",
    ")"
   ]
  },
  {
   "cell_type": "code",
   "execution_count": 5,
   "metadata": {},
   "outputs": [
    {
     "name": "stderr",
     "output_type": "stream",
     "text": [
      "/home/draga/miniconda3/envs/napari-graph/lib/python3.9/site-packages/skimage/_shared/utils.py:394: UserWarning: Color data out of range: Z < 0 in 20 pixels\n",
      "  return func(*args, **kwargs)\n",
      "/home/draga/miniconda3/envs/napari-graph/lib/python3.9/site-packages/skimage/_shared/utils.py:394: UserWarning: Color data out of range: Z < 0 in 20 pixels\n",
      "  return func(*args, **kwargs)\n",
      "/home/draga/miniconda3/envs/napari-graph/lib/python3.9/site-packages/skimage/_shared/utils.py:394: UserWarning: Color data out of range: Z < 0 in 20 pixels\n",
      "  return func(*args, **kwargs)\n"
     ]
    },
    {
     "data": {
      "text/plain": "<Graph layer 'full_graph' at 0x7efc6ed882e0>"
     },
     "execution_count": 5,
     "metadata": {},
     "output_type": "execute_result"
    }
   ],
   "source": [
    "viewer = napari.Viewer()\n",
    "viewer.add_image(data)\n",
    "viewer.add_labels(\n",
    "    seg,\n",
    "    # scale=(50, 1, 1), \n",
    ")\n",
    "viewer.add_labels(\n",
    "    sol_mask,\n",
    "    name='Solution'\n",
    ")\n",
    "viewer.add_labels(truth)\n",
    "viewer.add_layer(layer)\n",
    "viewer.add_layer(full_layer)"
   ]
  },
  {
   "cell_type": "code",
   "execution_count": 6,
   "metadata": {},
   "outputs": [
    {
     "data": {
      "text/html": "<div>\n<style scoped>\n    .dataframe tbody tr th:only-of-type {\n        vertical-align: middle;\n    }\n\n    .dataframe tbody tr th {\n        vertical-align: top;\n    }\n\n    .dataframe thead th {\n        text-align: right;\n    }\n</style>\n<table border=\"1\" class=\"dataframe\">\n  <thead>\n    <tr style=\"text-align: right;\">\n      <th></th>\n      <th>label</th>\n      <th>t</th>\n      <th>_igraph_index</th>\n      <th>y</th>\n      <th>x</th>\n      <th>in-app</th>\n      <th>in-div</th>\n      <th>in-mig</th>\n      <th>out-mig</th>\n      <th>out-target</th>\n      <th>track-id</th>\n    </tr>\n  </thead>\n  <tbody>\n    <tr>\n      <th>467</th>\n      <td>363</td>\n      <td>9</td>\n      <td>467</td>\n      <td>501.000000</td>\n      <td>892.000000</td>\n      <td>0.0</td>\n      <td>0.0</td>\n      <td>2.0</td>\n      <td>2.0</td>\n      <td>0</td>\n      <td>-1</td>\n    </tr>\n    <tr>\n      <th>576</th>\n      <td>363</td>\n      <td>11</td>\n      <td>576</td>\n      <td>500.000000</td>\n      <td>889.000000</td>\n      <td>0.0</td>\n      <td>0.0</td>\n      <td>2.0</td>\n      <td>2.0</td>\n      <td>0</td>\n      <td>-1</td>\n    </tr>\n    <tr>\n      <th>619</th>\n      <td>257</td>\n      <td>12</td>\n      <td>619</td>\n      <td>543.910526</td>\n      <td>938.971053</td>\n      <td>0.0</td>\n      <td>0.0</td>\n      <td>2.0</td>\n      <td>2.0</td>\n      <td>0</td>\n      <td>-1</td>\n    </tr>\n    <tr>\n      <th>2314</th>\n      <td>136</td>\n      <td>37</td>\n      <td>2314</td>\n      <td>447.950125</td>\n      <td>150.389027</td>\n      <td>0.0</td>\n      <td>0.0</td>\n      <td>2.0</td>\n      <td>2.0</td>\n      <td>0</td>\n      <td>-1</td>\n    </tr>\n    <tr>\n      <th>2514</th>\n      <td>363</td>\n      <td>39</td>\n      <td>2514</td>\n      <td>491.989276</td>\n      <td>890.029491</td>\n      <td>0.0</td>\n      <td>0.0</td>\n      <td>2.0</td>\n      <td>2.0</td>\n      <td>0</td>\n      <td>-1</td>\n    </tr>\n    <tr>\n      <th>2585</th>\n      <td>287</td>\n      <td>40</td>\n      <td>2585</td>\n      <td>412.308166</td>\n      <td>1010.286595</td>\n      <td>0.0</td>\n      <td>0.0</td>\n      <td>2.0</td>\n      <td>2.0</td>\n      <td>0</td>\n      <td>-1</td>\n    </tr>\n    <tr>\n      <th>2667</th>\n      <td>259</td>\n      <td>41</td>\n      <td>2667</td>\n      <td>544.679137</td>\n      <td>915.530935</td>\n      <td>0.0</td>\n      <td>0.0</td>\n      <td>2.0</td>\n      <td>2.0</td>\n      <td>0</td>\n      <td>-1</td>\n    </tr>\n    <tr>\n      <th>2757</th>\n      <td>260</td>\n      <td>42</td>\n      <td>2757</td>\n      <td>524.164502</td>\n      <td>953.637807</td>\n      <td>0.0</td>\n      <td>0.0</td>\n      <td>2.0</td>\n      <td>2.0</td>\n      <td>0</td>\n      <td>-1</td>\n    </tr>\n    <tr>\n      <th>3628</th>\n      <td>136</td>\n      <td>51</td>\n      <td>3628</td>\n      <td>449.634855</td>\n      <td>149.209544</td>\n      <td>0.0</td>\n      <td>0.0</td>\n      <td>2.0</td>\n      <td>2.0</td>\n      <td>0</td>\n      <td>-1</td>\n    </tr>\n    <tr>\n      <th>3872</th>\n      <td>193</td>\n      <td>53</td>\n      <td>3872</td>\n      <td>478.776515</td>\n      <td>190.662879</td>\n      <td>0.0</td>\n      <td>0.0</td>\n      <td>2.0</td>\n      <td>2.0</td>\n      <td>0</td>\n      <td>-1</td>\n    </tr>\n    <tr>\n      <th>4075</th>\n      <td>136</td>\n      <td>55</td>\n      <td>4075</td>\n      <td>448.592437</td>\n      <td>146.844538</td>\n      <td>0.0</td>\n      <td>0.0</td>\n      <td>2.0</td>\n      <td>2.0</td>\n      <td>0</td>\n      <td>-1</td>\n    </tr>\n    <tr>\n      <th>4208</th>\n      <td>193</td>\n      <td>56</td>\n      <td>4208</td>\n      <td>477.575758</td>\n      <td>168.484848</td>\n      <td>0.0</td>\n      <td>0.0</td>\n      <td>2.0</td>\n      <td>2.0</td>\n      <td>0</td>\n      <td>-1</td>\n    </tr>\n    <tr>\n      <th>4669</th>\n      <td>193</td>\n      <td>60</td>\n      <td>4669</td>\n      <td>479.804082</td>\n      <td>190.253061</td>\n      <td>0.0</td>\n      <td>0.0</td>\n      <td>2.0</td>\n      <td>2.0</td>\n      <td>0</td>\n      <td>-1</td>\n    </tr>\n    <tr>\n      <th>4784</th>\n      <td>192</td>\n      <td>61</td>\n      <td>4784</td>\n      <td>494.900000</td>\n      <td>167.379310</td>\n      <td>0.0</td>\n      <td>0.0</td>\n      <td>2.0</td>\n      <td>2.0</td>\n      <td>0</td>\n      <td>-1</td>\n    </tr>\n    <tr>\n      <th>4788</th>\n      <td>199</td>\n      <td>61</td>\n      <td>4788</td>\n      <td>416.318662</td>\n      <td>382.957746</td>\n      <td>0.0</td>\n      <td>0.0</td>\n      <td>2.0</td>\n      <td>2.0</td>\n      <td>0</td>\n      <td>-1</td>\n    </tr>\n    <tr>\n      <th>4901</th>\n      <td>193</td>\n      <td>62</td>\n      <td>4901</td>\n      <td>477.534413</td>\n      <td>192.789474</td>\n      <td>0.0</td>\n      <td>0.0</td>\n      <td>2.0</td>\n      <td>2.0</td>\n      <td>0</td>\n      <td>-1</td>\n    </tr>\n    <tr>\n      <th>4906</th>\n      <td>203</td>\n      <td>62</td>\n      <td>4906</td>\n      <td>446.971264</td>\n      <td>342.160920</td>\n      <td>0.0</td>\n      <td>0.0</td>\n      <td>2.0</td>\n      <td>2.0</td>\n      <td>0</td>\n      <td>-1</td>\n    </tr>\n    <tr>\n      <th>5021</th>\n      <td>199</td>\n      <td>63</td>\n      <td>5021</td>\n      <td>416.000000</td>\n      <td>387.000000</td>\n      <td>0.0</td>\n      <td>0.0</td>\n      <td>2.0</td>\n      <td>2.0</td>\n      <td>0</td>\n      <td>-1</td>\n    </tr>\n    <tr>\n      <th>5113</th>\n      <td>136</td>\n      <td>64</td>\n      <td>5113</td>\n      <td>447.170886</td>\n      <td>142.362869</td>\n      <td>0.0</td>\n      <td>0.0</td>\n      <td>2.0</td>\n      <td>2.0</td>\n      <td>0</td>\n      <td>-1</td>\n    </tr>\n    <tr>\n      <th>5232</th>\n      <td>135</td>\n      <td>65</td>\n      <td>5232</td>\n      <td>464.069565</td>\n      <td>118.815942</td>\n      <td>0.0</td>\n      <td>0.0</td>\n      <td>2.0</td>\n      <td>2.0</td>\n      <td>0</td>\n      <td>-1</td>\n    </tr>\n    <tr>\n      <th>5353</th>\n      <td>136</td>\n      <td>66</td>\n      <td>5353</td>\n      <td>446.710417</td>\n      <td>141.245833</td>\n      <td>0.0</td>\n      <td>0.0</td>\n      <td>2.0</td>\n      <td>2.0</td>\n      <td>0</td>\n      <td>-1</td>\n    </tr>\n    <tr>\n      <th>6720</th>\n      <td>199</td>\n      <td>77</td>\n      <td>6720</td>\n      <td>411.000000</td>\n      <td>415.000000</td>\n      <td>0.0</td>\n      <td>0.0</td>\n      <td>2.0</td>\n      <td>2.0</td>\n      <td>0</td>\n      <td>-1</td>\n    </tr>\n    <tr>\n      <th>6769</th>\n      <td>380</td>\n      <td>77</td>\n      <td>6769</td>\n      <td>661.797348</td>\n      <td>406.287879</td>\n      <td>0.0</td>\n      <td>0.0</td>\n      <td>2.0</td>\n      <td>2.0</td>\n      <td>0</td>\n      <td>-1</td>\n    </tr>\n    <tr>\n      <th>6847</th>\n      <td>208</td>\n      <td>78</td>\n      <td>6847</td>\n      <td>420.335535</td>\n      <td>450.033025</td>\n      <td>0.0</td>\n      <td>0.0</td>\n      <td>2.0</td>\n      <td>2.0</td>\n      <td>0</td>\n      <td>-1</td>\n    </tr>\n    <tr>\n      <th>6976</th>\n      <td>214</td>\n      <td>79</td>\n      <td>6976</td>\n      <td>418.705215</td>\n      <td>489.895692</td>\n      <td>0.0</td>\n      <td>0.0</td>\n      <td>1.5</td>\n      <td>1.5</td>\n      <td>0</td>\n      <td>-1</td>\n    </tr>\n    <tr>\n      <th>6980</th>\n      <td>233</td>\n      <td>79</td>\n      <td>6980</td>\n      <td>452.245856</td>\n      <td>510.798343</td>\n      <td>0.0</td>\n      <td>0.0</td>\n      <td>1.5</td>\n      <td>1.5</td>\n      <td>0</td>\n      <td>-1</td>\n    </tr>\n  </tbody>\n</table>\n</div>",
      "text/plain": "      label   t  _igraph_index           y            x  in-app  in-div  \\\n467     363   9            467  501.000000   892.000000     0.0     0.0   \n576     363  11            576  500.000000   889.000000     0.0     0.0   \n619     257  12            619  543.910526   938.971053     0.0     0.0   \n2314    136  37           2314  447.950125   150.389027     0.0     0.0   \n2514    363  39           2514  491.989276   890.029491     0.0     0.0   \n2585    287  40           2585  412.308166  1010.286595     0.0     0.0   \n2667    259  41           2667  544.679137   915.530935     0.0     0.0   \n2757    260  42           2757  524.164502   953.637807     0.0     0.0   \n3628    136  51           3628  449.634855   149.209544     0.0     0.0   \n3872    193  53           3872  478.776515   190.662879     0.0     0.0   \n4075    136  55           4075  448.592437   146.844538     0.0     0.0   \n4208    193  56           4208  477.575758   168.484848     0.0     0.0   \n4669    193  60           4669  479.804082   190.253061     0.0     0.0   \n4784    192  61           4784  494.900000   167.379310     0.0     0.0   \n4788    199  61           4788  416.318662   382.957746     0.0     0.0   \n4901    193  62           4901  477.534413   192.789474     0.0     0.0   \n4906    203  62           4906  446.971264   342.160920     0.0     0.0   \n5021    199  63           5021  416.000000   387.000000     0.0     0.0   \n5113    136  64           5113  447.170886   142.362869     0.0     0.0   \n5232    135  65           5232  464.069565   118.815942     0.0     0.0   \n5353    136  66           5353  446.710417   141.245833     0.0     0.0   \n6720    199  77           6720  411.000000   415.000000     0.0     0.0   \n6769    380  77           6769  661.797348   406.287879     0.0     0.0   \n6847    208  78           6847  420.335535   450.033025     0.0     0.0   \n6976    214  79           6976  418.705215   489.895692     0.0     0.0   \n6980    233  79           6980  452.245856   510.798343     0.0     0.0   \n\n      in-mig  out-mig  out-target  track-id  \n467      2.0      2.0           0        -1  \n576      2.0      2.0           0        -1  \n619      2.0      2.0           0        -1  \n2314     2.0      2.0           0        -1  \n2514     2.0      2.0           0        -1  \n2585     2.0      2.0           0        -1  \n2667     2.0      2.0           0        -1  \n2757     2.0      2.0           0        -1  \n3628     2.0      2.0           0        -1  \n3872     2.0      2.0           0        -1  \n4075     2.0      2.0           0        -1  \n4208     2.0      2.0           0        -1  \n4669     2.0      2.0           0        -1  \n4784     2.0      2.0           0        -1  \n4788     2.0      2.0           0        -1  \n4901     2.0      2.0           0        -1  \n4906     2.0      2.0           0        -1  \n5021     2.0      2.0           0        -1  \n5113     2.0      2.0           0        -1  \n5232     2.0      2.0           0        -1  \n5353     2.0      2.0           0        -1  \n6720     2.0      2.0           0        -1  \n6769     2.0      2.0           0        -1  \n6847     2.0      2.0           0        -1  \n6976     1.5      1.5           0        -1  \n6980     1.5      1.5           0        -1  "
     },
     "execution_count": 6,
     "metadata": {},
     "output_type": "execute_result"
    }
   ],
   "source": [
    "node_df[node_df['in-mig'] > 1]"
   ]
  }
 ],
 "metadata": {
  "kernelspec": {
   "display_name": "Python 3.9.13 64-bit ('napari-graph': conda)",
   "name": "python3913jvsc74a57bd0bc09f98cf869b83bf3a07bdaffe5ae213e0bb152dc8300e4fba8a5fbb22b2b92"
  },
  "language_info": {
   "codemirror_mode": {
    "name": "ipython",
    "version": 3
   },
   "file_extension": ".py",
   "mimetype": "text/x-python",
   "name": "python",
   "nbconvert_exporter": "python",
   "pygments_lexer": "ipython3",
   "version": "3.9.13"
  },
  "orig_nbformat": 2
 },
 "nbformat": 4,
 "nbformat_minor": 2
}