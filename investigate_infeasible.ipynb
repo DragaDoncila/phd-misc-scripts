{
 "cells": [
  {
   "cell_type": "code",
   "execution_count": 1,
   "metadata": {},
   "outputs": [],
   "source": [
    "import os\n",
    "from ctc_timings import get_graph\n",
    "import pandas as pd\n",
    "import networkx as nx"
   ]
  },
  {
   "cell_type": "code",
   "execution_count": 2,
   "metadata": {},
   "outputs": [],
   "source": [
    "ROOT_DATA_DIR = '/home/draga/PhD/data/cell_tracking_challenge/ST_Segmentations/'"
   ]
  },
  {
   "cell_type": "code",
   "execution_count": 3,
   "metadata": {},
   "outputs": [],
   "source": [
    "\n",
    "ds_name = 'BF-C2DL-MuSC'\n",
    "seq = 1\n",
    "min_t = 0\n",
    "max_t = 1375\n",
    "corners = [(0, 0), (1036, 1070)]"
   ]
  },
  {
   "cell_type": "code",
   "execution_count": 4,
   "metadata": {},
   "outputs": [
    {
     "name": "stderr",
     "output_type": "stream",
     "text": [
      "Building kD trees: 100%|██████████| 1376/1376 [00:21<00:00, 63.67it/s]\n",
      "Making appearance/exit edges: 100%|██████████| 5419/5419 [00:00<00:00, 43754.17it/s]\n",
      "Making migration & division edges: 100%|██████████| 1375/1375 [00:27<00:00, 50.02it/s]\n"
     ]
    },
    {
     "name": "stdout",
     "output_type": "stream",
     "text": [
      "Build duration:  49.42817783355713\n"
     ]
    }
   ],
   "source": [
    "sol_dir = os.path.join(ROOT_DATA_DIR, ds_name, '{0:02}_RES/'.format(seq))\n",
    "os.makedirs(sol_dir, exist_ok=True)\n",
    "sol_pth = os.path.join(sol_dir, 'maybe_solution.graphml')\n",
    "\n",
    "# read coords\n",
    "coords_path = os.path.join(ROOT_DATA_DIR, '{0}_{1:02}_coords.csv'.format(ds_name, seq))\n",
    "coords = pd.read_csv(coords_path)\n",
    "\n",
    "# build graph\n",
    "graph, build_time = get_graph(coords, min_t, max_t, corners)"
   ]
  },
  {
   "cell_type": "code",
   "execution_count": 5,
   "metadata": {},
   "outputs": [
    {
     "name": "stdout",
     "output_type": "stream",
     "text": [
      "0\n"
     ]
    }
   ],
   "source": [
    "infinite_cost_edges = graph._g.es.select(cost_ge=1e10)\n",
    "print(len(infinite_cost_edges))"
   ]
  },
  {
   "cell_type": "code",
   "execution_count": 6,
   "metadata": {},
   "outputs": [
    {
     "name": "stdout",
     "output_type": "stream",
     "text": [
      "Set parameter Username\n",
      "\n",
      "--------------------------------------------\n",
      "Warning: your license will expire in 3 days\n",
      "--------------------------------------------\n",
      "\n",
      "Academic license - for non-commercial use only - expires 2023-05-12\n",
      "Gurobi Optimizer version 9.5.2 build v9.5.2rc0 (linux64)\n",
      "Thread count: 4 physical cores, 8 logical processors, using up to 8 threads\n",
      "Optimize a model with 16260 rows, 55846 columns and 212542 nonzeros\n",
      "Model fingerprint: 0x524fc038\n",
      "Coefficient statistics:\n",
      "  Matrix range     [1e+00, 1e+00]\n",
      "  Objective range  [9e-02, 9e+02]\n",
      "  Bounds range     [1e+00, 1e+00]\n",
      "  RHS range        [1e+00, 1e+00]\n",
      "\n",
      "Concurrent LP optimizer: dual simplex and barrier\n",
      "Showing barrier log only...\n",
      "\n",
      "Presolve removed 932 rows and 6 columns\n",
      "Presolve time: 0.30s\n",
      "Presolved: 15328 rows, 55840 columns, 210437 nonzeros\n",
      "\n",
      "Ordering time: 0.02s\n",
      "\n",
      "Barrier statistics:\n",
      " AA' NZ     : 1.501e+05\n",
      " Factor NZ  : 2.872e+05 (roughly 30 MB of memory)\n",
      " Factor Ops : 6.635e+06 (less than 1 second per iteration)\n",
      " Threads    : 3\n",
      "\n",
      "Barrier performed 0 iterations in 0.47 seconds (0.15 work units)\n",
      "Barrier solve interrupted - model solved by another algorithm\n",
      "\n",
      "\n",
      "Solved with dual simplex\n",
      "Solved in 6238 iterations and 0.48 seconds (0.17 work units)\n",
      "Optimal objective  9.422942611e+04\n"
     ]
    }
   ],
   "source": [
    "m, flow = graph._to_gurobi_model()\n",
    "m.optimize()"
   ]
  },
  {
   "cell_type": "code",
   "execution_count": 7,
   "metadata": {},
   "outputs": [],
   "source": [
    "# store on graph\n",
    "store_time = graph.store_solution(m)"
   ]
  },
  {
   "cell_type": "code",
   "execution_count": 8,
   "metadata": {},
   "outputs": [],
   "source": [
    "# save solution graph\n",
    "sol_pth = os.path.join(sol_dir, 'maybe_solution.graphml')\n",
    "nx_g = graph.convert_sol_igraph_to_nx()\n",
    "nx.write_graphml_lxml(nx_g, sol_pth)"
   ]
  },
  {
   "cell_type": "code",
   "execution_count": 9,
   "metadata": {},
   "outputs": [
    {
     "name": "stderr",
     "output_type": "stream",
     "text": [
      "Loading TIFFs: 100%|██████████| 1376/1376 [00:18<00:00, 73.28it/s]\n",
      "Matching frames: 100%|██████████| 1376/1376 [00:59<00:00, 23.06it/s]\n"
     ]
    },
    {
     "name": "stdout",
     "output_type": "stream",
     "text": [
      "Matched 5388 out of 5411 ground truth nodes.\n",
      "Matched 5388 out of 5419 predicted nodes.\n"
     ]
    },
    {
     "name": "stderr",
     "output_type": "stream",
     "text": [
      "Evaluating nodes: 100%|██████████| 1376/1376 [00:00<00:00, 5937.99it/s]\n",
      "Evaluating FP edges: 100%|██████████| 5435/5435 [00:19<00:00, 276.01it/s]\n",
      "Evaluating FN edges: 100%|██████████| 5410/5410 [00:09<00:00, 600.80it/s]\n"
     ]
    }
   ],
   "source": [
    "from traccuracy.loaders import load_ctc_data\n",
    "from bmvc_metrics import load_sol\n",
    "from traccuracy.matchers import CTCMatched\n",
    "from traccuracy.metrics import CTCMetrics\n",
    "\n",
    "gt_data = load_ctc_data(os.path.join(ROOT_DATA_DIR, ds_name, '{0:02}_GT/TRA/'.format(seq)))\n",
    "sol_data = load_sol(sol_pth, os.path.join(ROOT_DATA_DIR, ds_name, '{0:02}_ST/SEG/'.format(seq)), gt_data.segmentation)\n",
    "\n",
    "match = CTCMatched(gt_data, sol_data)\n",
    "raw_ctc = CTCMetrics(match).results"
   ]
  },
  {
   "cell_type": "code",
   "execution_count": 10,
   "metadata": {},
   "outputs": [
    {
     "data": {
      "text/plain": [
       "{'AOGM': 778.5,\n",
       " 'fp_nodes': 31,\n",
       " 'fn_nodes': 23,\n",
       " 'ns_nodes': 0,\n",
       " 'fp_edges': 168,\n",
       " 'fn_edges': 143,\n",
       " 'ws_edges': 135,\n",
       " 'TRA': 0.9874889513860988,\n",
       " 'DET': 0.995176492330438}"
      ]
     },
     "execution_count": 10,
     "metadata": {},
     "output_type": "execute_result"
    },
    {
     "ename": "",
     "evalue": "",
     "output_type": "error",
     "traceback": [
      "\u001b[1;31mThe Kernel crashed while executing code in the the current cell or a previous cell. Please review the code in the cell(s) to identify a possible cause of the failure. Click <a href='https://aka.ms/vscodeJupyterKernelCrash'>here</a> for more info. View Jupyter <a href='command:jupyter.viewOutput'>log</a> for further details."
     ]
    }
   ],
   "source": [
    "raw_ctc"
   ]
  },
  {
   "cell_type": "code",
   "execution_count": 17,
   "metadata": {},
   "outputs": [
    {
     "data": {
      "text/plain": [
       "5132"
      ]
     },
     "execution_count": 17,
     "metadata": {},
     "output_type": "execute_result"
    }
   ],
   "source": []
  }
 ],
 "metadata": {
  "kernelspec": {
   "display_name": "napari-graph",
   "language": "python",
   "name": "python3"
  },
  "language_info": {
   "codemirror_mode": {
    "name": "ipython",
    "version": 3
   },
   "file_extension": ".py",
   "mimetype": "text/x-python",
   "name": "python",
   "nbconvert_exporter": "python",
   "pygments_lexer": "ipython3",
   "version": "3.9.13"
  },
  "orig_nbformat": 4
 },
 "nbformat": 4,
 "nbformat_minor": 2
}
