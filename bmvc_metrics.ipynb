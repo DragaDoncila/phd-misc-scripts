{
 "cells": [
  {
   "cell_type": "code",
   "execution_count": 8,
   "metadata": {},
   "outputs": [],
   "source": [
    "from ctc_timings import get_im_centers, get_graph\n",
    "from ctc_fluo_metrics import filter_to_migration_sol, introduce_gt_labels, assign_intertrack_edges\n",
    "from visualize_lp_solution import load_tiff_frames\n",
    "from tqdm import tqdm\n",
    "from traccuracy import TrackingData, TrackingGraph\n",
    "from traccuracy.loaders import load_ctc_data\n",
    "from traccuracy.matchers import CTCMatched\n",
    "from traccuracy.metrics import CTCMetrics, DivisionMetrics, AOGMMetrics\n",
    "\n",
    "import json\n",
    "import networkx as nx\n",
    "import os\n",
    "import pandas as pd\n",
    "import time\n",
    "import pprint\n"
   ]
  },
  {
   "cell_type": "code",
   "execution_count": 9,
   "metadata": {},
   "outputs": [],
   "source": [
    "ROOT_DATA_DIR = '/home/draga/PhD/data/cell_tracking_challenge/ST_Segmentations/'"
   ]
  },
  {
   "cell_type": "code",
   "execution_count": 10,
   "metadata": {},
   "outputs": [],
   "source": [
    "ds_summary_df = pd.read_csv('/home/draga/PhD/data/cell_tracking_challenge/ST_Segmentations/ds_summary.csv', index_col=0)"
   ]
  },
  {
   "cell_type": "code",
   "execution_count": 11,
   "metadata": {},
   "outputs": [],
   "source": [
    "def load_sol(sol_path, seg_path):\n",
    "    seg = load_tiff_frames(seg_path)\n",
    "    sol = nx.read_graphml(sol_path, node_type=int)\n",
    "    filter_to_migration_sol(sol)\n",
    "    assign_intertrack_edges(sol)\n",
    "    track_graph = TrackingGraph(sol, label_key='pixel_value')\n",
    "    track_data = TrackingData(track_graph, seg)\n",
    "    return track_data"
   ]
  },
  {
   "cell_type": "code",
   "execution_count": 12,
   "metadata": {},
   "outputs": [
    {
     "data": {
      "text/html": [
       "<div>\n",
       "<style scoped>\n",
       "    .dataframe tbody tr th:only-of-type {\n",
       "        vertical-align: middle;\n",
       "    }\n",
       "\n",
       "    .dataframe tbody tr th {\n",
       "        vertical-align: top;\n",
       "    }\n",
       "\n",
       "    .dataframe thead th {\n",
       "        text-align: right;\n",
       "    }\n",
       "</style>\n",
       "<table border=\"1\" class=\"dataframe\">\n",
       "  <thead>\n",
       "    <tr style=\"text-align: right;\">\n",
       "      <th></th>\n",
       "      <th>ds_name</th>\n",
       "      <th>seq</th>\n",
       "      <th>n_frames</th>\n",
       "      <th>im_dim</th>\n",
       "      <th>min_cells</th>\n",
       "      <th>max_cells</th>\n",
       "      <th>load_time</th>\n",
       "      <th>build_time</th>\n",
       "      <th>solve_time</th>\n",
       "      <th>store_time</th>\n",
       "    </tr>\n",
       "  </thead>\n",
       "  <tbody>\n",
       "    <tr>\n",
       "      <th>10</th>\n",
       "      <td>Fluo-C2DL-MSC</td>\n",
       "      <td>2</td>\n",
       "      <td>48</td>\n",
       "      <td>(782, 1200)</td>\n",
       "      <td>3</td>\n",
       "      <td>6</td>\n",
       "      <td>428.658792</td>\n",
       "      <td>0.137372</td>\n",
       "      <td>0.003784</td>\n",
       "      <td>0.007709</td>\n",
       "    </tr>\n",
       "    <tr>\n",
       "      <th>11</th>\n",
       "      <td>Fluo-C2DL-MSC</td>\n",
       "      <td>1</td>\n",
       "      <td>48</td>\n",
       "      <td>(832, 992)</td>\n",
       "      <td>7</td>\n",
       "      <td>11</td>\n",
       "      <td>169.978571</td>\n",
       "      <td>0.466456</td>\n",
       "      <td>0.016624</td>\n",
       "      <td>0.033596</td>\n",
       "    </tr>\n",
       "    <tr>\n",
       "      <th>14</th>\n",
       "      <td>DIC-C2DH-HeLa</td>\n",
       "      <td>2</td>\n",
       "      <td>84</td>\n",
       "      <td>(512, 512)</td>\n",
       "      <td>9</td>\n",
       "      <td>17</td>\n",
       "      <td>0.738119</td>\n",
       "      <td>1.462888</td>\n",
       "      <td>0.033471</td>\n",
       "      <td>0.058133</td>\n",
       "    </tr>\n",
       "    <tr>\n",
       "      <th>15</th>\n",
       "      <td>DIC-C2DH-HeLa</td>\n",
       "      <td>1</td>\n",
       "      <td>84</td>\n",
       "      <td>(512, 512)</td>\n",
       "      <td>10</td>\n",
       "      <td>18</td>\n",
       "      <td>6.549783</td>\n",
       "      <td>1.279159</td>\n",
       "      <td>0.037876</td>\n",
       "      <td>0.058499</td>\n",
       "    </tr>\n",
       "    <tr>\n",
       "      <th>2</th>\n",
       "      <td>Fluo-N2DH-GOWT1</td>\n",
       "      <td>2</td>\n",
       "      <td>92</td>\n",
       "      <td>(1024, 1024)</td>\n",
       "      <td>21</td>\n",
       "      <td>29</td>\n",
       "      <td>1.494299</td>\n",
       "      <td>2.761537</td>\n",
       "      <td>0.099665</td>\n",
       "      <td>0.123388</td>\n",
       "    </tr>\n",
       "    <tr>\n",
       "      <th>3</th>\n",
       "      <td>Fluo-N2DH-GOWT1</td>\n",
       "      <td>1</td>\n",
       "      <td>92</td>\n",
       "      <td>(1024, 1024)</td>\n",
       "      <td>20</td>\n",
       "      <td>24</td>\n",
       "      <td>1.169580</td>\n",
       "      <td>2.283131</td>\n",
       "      <td>0.068261</td>\n",
       "      <td>0.115736</td>\n",
       "    </tr>\n",
       "    <tr>\n",
       "      <th>6</th>\n",
       "      <td>Fluo-N2DL-HeLa</td>\n",
       "      <td>2</td>\n",
       "      <td>92</td>\n",
       "      <td>(700, 1100)</td>\n",
       "      <td>124</td>\n",
       "      <td>364</td>\n",
       "      <td>93.519627</td>\n",
       "      <td>27.733668</td>\n",
       "      <td>3.311848</td>\n",
       "      <td>1.361308</td>\n",
       "    </tr>\n",
       "    <tr>\n",
       "      <th>7</th>\n",
       "      <td>Fluo-N2DL-HeLa</td>\n",
       "      <td>1</td>\n",
       "      <td>92</td>\n",
       "      <td>(700, 1100)</td>\n",
       "      <td>43</td>\n",
       "      <td>136</td>\n",
       "      <td>1.630205</td>\n",
       "      <td>9.740699</td>\n",
       "      <td>0.425146</td>\n",
       "      <td>0.454946</td>\n",
       "    </tr>\n",
       "    <tr>\n",
       "      <th>12</th>\n",
       "      <td>PhC-C2DH-U373</td>\n",
       "      <td>2</td>\n",
       "      <td>115</td>\n",
       "      <td>(520, 696)</td>\n",
       "      <td>5</td>\n",
       "      <td>7</td>\n",
       "      <td>2.643723</td>\n",
       "      <td>0.553700</td>\n",
       "      <td>0.016693</td>\n",
       "      <td>0.031381</td>\n",
       "    </tr>\n",
       "    <tr>\n",
       "      <th>13</th>\n",
       "      <td>PhC-C2DH-U373</td>\n",
       "      <td>1</td>\n",
       "      <td>115</td>\n",
       "      <td>(520, 696)</td>\n",
       "      <td>6</td>\n",
       "      <td>7</td>\n",
       "      <td>0.633260</td>\n",
       "      <td>0.678471</td>\n",
       "      <td>0.014745</td>\n",
       "      <td>0.028937</td>\n",
       "    </tr>\n",
       "    <tr>\n",
       "      <th>0</th>\n",
       "      <td>PhC-C2DL-PSC</td>\n",
       "      <td>2</td>\n",
       "      <td>300</td>\n",
       "      <td>(576, 720)</td>\n",
       "      <td>65</td>\n",
       "      <td>499</td>\n",
       "      <td>12.970166</td>\n",
       "      <td>96.900192</td>\n",
       "      <td>4.043894</td>\n",
       "      <td>4.055930</td>\n",
       "    </tr>\n",
       "    <tr>\n",
       "      <th>1</th>\n",
       "      <td>PhC-C2DL-PSC</td>\n",
       "      <td>1</td>\n",
       "      <td>300</td>\n",
       "      <td>(576, 720)</td>\n",
       "      <td>74</td>\n",
       "      <td>651</td>\n",
       "      <td>15.481598</td>\n",
       "      <td>119.723730</td>\n",
       "      <td>6.341110</td>\n",
       "      <td>5.458487</td>\n",
       "    </tr>\n",
       "    <tr>\n",
       "      <th>4</th>\n",
       "      <td>BF-C2DL-MuSC</td>\n",
       "      <td>2</td>\n",
       "      <td>1376</td>\n",
       "      <td>(1036, 1070)</td>\n",
       "      <td>1</td>\n",
       "      <td>23</td>\n",
       "      <td>441.252474</td>\n",
       "      <td>36.027508</td>\n",
       "      <td>-1.000000</td>\n",
       "      <td>-1.000000</td>\n",
       "    </tr>\n",
       "    <tr>\n",
       "      <th>5</th>\n",
       "      <td>BF-C2DL-MuSC</td>\n",
       "      <td>1</td>\n",
       "      <td>1376</td>\n",
       "      <td>(1036, 1070)</td>\n",
       "      <td>1</td>\n",
       "      <td>23</td>\n",
       "      <td>165.731707</td>\n",
       "      <td>27.962891</td>\n",
       "      <td>-1.000000</td>\n",
       "      <td>-1.000000</td>\n",
       "    </tr>\n",
       "    <tr>\n",
       "      <th>8</th>\n",
       "      <td>BF-C2DL-HSC</td>\n",
       "      <td>2</td>\n",
       "      <td>1764</td>\n",
       "      <td>(1010, 1010)</td>\n",
       "      <td>2</td>\n",
       "      <td>159</td>\n",
       "      <td>21.811371</td>\n",
       "      <td>415.744597</td>\n",
       "      <td>4.217012</td>\n",
       "      <td>4.820319</td>\n",
       "    </tr>\n",
       "    <tr>\n",
       "      <th>9</th>\n",
       "      <td>BF-C2DL-HSC</td>\n",
       "      <td>1</td>\n",
       "      <td>1764</td>\n",
       "      <td>(1010, 1010)</td>\n",
       "      <td>1</td>\n",
       "      <td>12</td>\n",
       "      <td>57.734895</td>\n",
       "      <td>51.365434</td>\n",
       "      <td>-1.000000</td>\n",
       "      <td>-1.000000</td>\n",
       "    </tr>\n",
       "  </tbody>\n",
       "</table>\n",
       "</div>"
      ],
      "text/plain": [
       "            ds_name  seq  n_frames        im_dim  min_cells  max_cells  \\\n",
       "10    Fluo-C2DL-MSC    2        48   (782, 1200)          3          6   \n",
       "11    Fluo-C2DL-MSC    1        48    (832, 992)          7         11   \n",
       "14    DIC-C2DH-HeLa    2        84    (512, 512)          9         17   \n",
       "15    DIC-C2DH-HeLa    1        84    (512, 512)         10         18   \n",
       "2   Fluo-N2DH-GOWT1    2        92  (1024, 1024)         21         29   \n",
       "3   Fluo-N2DH-GOWT1    1        92  (1024, 1024)         20         24   \n",
       "6    Fluo-N2DL-HeLa    2        92   (700, 1100)        124        364   \n",
       "7    Fluo-N2DL-HeLa    1        92   (700, 1100)         43        136   \n",
       "12    PhC-C2DH-U373    2       115    (520, 696)          5          7   \n",
       "13    PhC-C2DH-U373    1       115    (520, 696)          6          7   \n",
       "0      PhC-C2DL-PSC    2       300    (576, 720)         65        499   \n",
       "1      PhC-C2DL-PSC    1       300    (576, 720)         74        651   \n",
       "4      BF-C2DL-MuSC    2      1376  (1036, 1070)          1         23   \n",
       "5      BF-C2DL-MuSC    1      1376  (1036, 1070)          1         23   \n",
       "8       BF-C2DL-HSC    2      1764  (1010, 1010)          2        159   \n",
       "9       BF-C2DL-HSC    1      1764  (1010, 1010)          1         12   \n",
       "\n",
       "     load_time  build_time  solve_time  store_time  \n",
       "10  428.658792    0.137372    0.003784    0.007709  \n",
       "11  169.978571    0.466456    0.016624    0.033596  \n",
       "14    0.738119    1.462888    0.033471    0.058133  \n",
       "15    6.549783    1.279159    0.037876    0.058499  \n",
       "2     1.494299    2.761537    0.099665    0.123388  \n",
       "3     1.169580    2.283131    0.068261    0.115736  \n",
       "6    93.519627   27.733668    3.311848    1.361308  \n",
       "7     1.630205    9.740699    0.425146    0.454946  \n",
       "12    2.643723    0.553700    0.016693    0.031381  \n",
       "13    0.633260    0.678471    0.014745    0.028937  \n",
       "0    12.970166   96.900192    4.043894    4.055930  \n",
       "1    15.481598  119.723730    6.341110    5.458487  \n",
       "4   441.252474   36.027508   -1.000000   -1.000000  \n",
       "5   165.731707   27.962891   -1.000000   -1.000000  \n",
       "8    21.811371  415.744597    4.217012    4.820319  \n",
       "9    57.734895   51.365434   -1.000000   -1.000000  "
      ]
     },
     "execution_count": 12,
     "metadata": {},
     "output_type": "execute_result"
    }
   ],
   "source": [
    "ds_summary_df"
   ]
  },
  {
   "cell_type": "code",
   "execution_count": 13,
   "metadata": {},
   "outputs": [],
   "source": [
    "# ds_name = \"Fluo-N2DL-HeLa\"\n",
    "# seq = 2\n",
    "# sol_dir = os.path.join(ROOT_DATA_DIR, ds_name, '{0:02}_RES/'.format(seq))\n",
    "# sol_pth = os.path.join(sol_dir, 'full_solution.graphml')\n",
    "# seg_pth = os.path.join(ROOT_DATA_DIR, ds_name, '{0:02}_ST/SEG/'.format(seq))\n",
    "# gt_pth = os.path.join(ROOT_DATA_DIR, ds_name, '{0:02}_GT/TRA/'.format(seq))\n",
    "# sol_data = load_sol(sol_pth, seg_pth)\n",
    "# gt_data = load_ctc_data(gt_pth)\n",
    "\n",
    "# match = CTCMatched(gt_data, sol_data)\n",
    "# raw_ctc = CTCMetrics(match).results"
   ]
  },
  {
   "cell_type": "code",
   "execution_count": 14,
   "metadata": {},
   "outputs": [
    {
     "name": "stdout",
     "output_type": "stream",
     "text": [
      "Skipping Fluo-C2DL-MSC_2. Already computed metrics.\n",
      "Skipping Fluo-C2DL-MSC_1. Already computed metrics.\n",
      "Skipping DIC-C2DH-HeLa_2. Already computed metrics.\n",
      "Skipping DIC-C2DH-HeLa_1. Already computed metrics.\n",
      "Skipping Fluo-N2DH-GOWT1_2. Already computed metrics.\n",
      "Skipping Fluo-N2DH-GOWT1_1. Already computed metrics.\n",
      "Computing Fluo-N2DL-HeLa sequence 2\n"
     ]
    },
    {
     "name": "stderr",
     "output_type": "stream",
     "text": [
      "Loading TIFFs: 100%|██████████| 92/92 [00:01<00:00, 72.94it/s]\n"
     ]
    },
    {
     "name": "stdout",
     "output_type": "stream",
     "text": [
      "skipped parent 945_43 to daughter 826\n",
      "skipped parent 801_78 to daughter 942\n",
      "skipped parent 798_87 to daughter 946\n"
     ]
    },
    {
     "name": "stderr",
     "output_type": "stream",
     "text": [
      "Matching frames:   7%|▋         | 6/92 [00:03<00:54,  1.58it/s]"
     ]
    },
    {
     "name": "stdout",
     "output_type": "stream",
     "text": [
      "Hello\n"
     ]
    },
    {
     "name": "stderr",
     "output_type": "stream",
     "text": [
      "Matching frames:   8%|▊         | 7/92 [00:04<00:55,  1.54it/s]"
     ]
    },
    {
     "name": "stdout",
     "output_type": "stream",
     "text": [
      "Hello\n",
      "Hello\n"
     ]
    },
    {
     "name": "stderr",
     "output_type": "stream",
     "text": [
      "Matching frames:   9%|▊         | 8/92 [00:05<00:55,  1.50it/s]"
     ]
    },
    {
     "name": "stdout",
     "output_type": "stream",
     "text": [
      "Hello\n",
      "Hello\n"
     ]
    },
    {
     "name": "stderr",
     "output_type": "stream",
     "text": [
      "Matching frames:  10%|▉         | 9/92 [00:05<00:56,  1.48it/s]"
     ]
    },
    {
     "name": "stdout",
     "output_type": "stream",
     "text": [
      "Hello\n",
      "Hello\n"
     ]
    },
    {
     "name": "stderr",
     "output_type": "stream",
     "text": [
      "Matching frames:  11%|█         | 10/92 [00:06<00:56,  1.46it/s]"
     ]
    },
    {
     "name": "stdout",
     "output_type": "stream",
     "text": [
      "Hello\n"
     ]
    },
    {
     "name": "stderr",
     "output_type": "stream",
     "text": [
      "Matching frames:  12%|█▏        | 11/92 [00:07<00:57,  1.41it/s]"
     ]
    },
    {
     "name": "stdout",
     "output_type": "stream",
     "text": [
      "Hello\n"
     ]
    },
    {
     "name": "stderr",
     "output_type": "stream",
     "text": [
      "Matching frames:  13%|█▎        | 12/92 [00:08<00:58,  1.36it/s]"
     ]
    },
    {
     "name": "stdout",
     "output_type": "stream",
     "text": [
      "Hello\n"
     ]
    },
    {
     "name": "stderr",
     "output_type": "stream",
     "text": [
      "Matching frames:  14%|█▍        | 13/92 [00:08<00:58,  1.36it/s]"
     ]
    },
    {
     "name": "stdout",
     "output_type": "stream",
     "text": [
      "Hello\n"
     ]
    },
    {
     "name": "stderr",
     "output_type": "stream",
     "text": [
      "Matching frames:  15%|█▌        | 14/92 [00:09<00:58,  1.34it/s]"
     ]
    },
    {
     "name": "stdout",
     "output_type": "stream",
     "text": [
      "Hello\n",
      "Hello\n"
     ]
    },
    {
     "name": "stderr",
     "output_type": "stream",
     "text": [
      "Matching frames:  16%|█▋        | 15/92 [00:10<00:58,  1.33it/s]"
     ]
    },
    {
     "name": "stdout",
     "output_type": "stream",
     "text": [
      "Hello\n"
     ]
    },
    {
     "name": "stderr",
     "output_type": "stream",
     "text": [
      "Matching frames:  17%|█▋        | 16/92 [00:11<00:57,  1.32it/s]"
     ]
    },
    {
     "name": "stdout",
     "output_type": "stream",
     "text": [
      "Hello\n"
     ]
    },
    {
     "name": "stderr",
     "output_type": "stream",
     "text": [
      "Matching frames:  18%|█▊        | 17/92 [00:11<00:57,  1.30it/s]"
     ]
    },
    {
     "name": "stdout",
     "output_type": "stream",
     "text": [
      "Hello\n"
     ]
    },
    {
     "name": "stderr",
     "output_type": "stream",
     "text": [
      "Matching frames:  20%|█▉        | 18/92 [00:12<00:58,  1.27it/s]"
     ]
    },
    {
     "name": "stdout",
     "output_type": "stream",
     "text": [
      "Hello\n"
     ]
    },
    {
     "name": "stderr",
     "output_type": "stream",
     "text": [
      "Matching frames:  21%|██        | 19/92 [00:13<00:57,  1.26it/s]"
     ]
    },
    {
     "name": "stdout",
     "output_type": "stream",
     "text": [
      "Hello\n"
     ]
    },
    {
     "name": "stderr",
     "output_type": "stream",
     "text": [
      "Matching frames:  22%|██▏       | 20/92 [00:14<00:57,  1.25it/s]"
     ]
    },
    {
     "name": "stdout",
     "output_type": "stream",
     "text": [
      "Hello\n"
     ]
    },
    {
     "name": "stderr",
     "output_type": "stream",
     "text": [
      "Matching frames:  23%|██▎       | 21/92 [00:15<00:57,  1.24it/s]"
     ]
    },
    {
     "name": "stdout",
     "output_type": "stream",
     "text": [
      "Hello\n"
     ]
    },
    {
     "name": "stderr",
     "output_type": "stream",
     "text": [
      "Matching frames:  24%|██▍       | 22/92 [00:16<00:57,  1.22it/s]"
     ]
    },
    {
     "name": "stdout",
     "output_type": "stream",
     "text": [
      "Hello\n"
     ]
    },
    {
     "name": "stderr",
     "output_type": "stream",
     "text": [
      "Matching frames:  25%|██▌       | 23/92 [00:16<00:57,  1.20it/s]"
     ]
    },
    {
     "name": "stdout",
     "output_type": "stream",
     "text": [
      "Hello\n"
     ]
    },
    {
     "name": "stderr",
     "output_type": "stream",
     "text": [
      "Matching frames:  26%|██▌       | 24/92 [00:17<00:57,  1.18it/s]"
     ]
    },
    {
     "name": "stdout",
     "output_type": "stream",
     "text": [
      "Hello\n"
     ]
    },
    {
     "name": "stderr",
     "output_type": "stream",
     "text": [
      "Matching frames:  27%|██▋       | 25/92 [00:18<00:57,  1.16it/s]"
     ]
    },
    {
     "name": "stdout",
     "output_type": "stream",
     "text": [
      "Hello\n"
     ]
    },
    {
     "name": "stderr",
     "output_type": "stream",
     "text": [
      "Matching frames:  28%|██▊       | 26/92 [00:19<00:57,  1.15it/s]"
     ]
    },
    {
     "name": "stdout",
     "output_type": "stream",
     "text": [
      "Hello\n"
     ]
    },
    {
     "name": "stderr",
     "output_type": "stream",
     "text": [
      "Matching frames:  29%|██▉       | 27/92 [00:20<00:56,  1.14it/s]"
     ]
    },
    {
     "name": "stdout",
     "output_type": "stream",
     "text": [
      "Hello\n"
     ]
    },
    {
     "name": "stderr",
     "output_type": "stream",
     "text": [
      "Matching frames:  30%|███       | 28/92 [00:21<00:58,  1.10it/s]"
     ]
    },
    {
     "name": "stdout",
     "output_type": "stream",
     "text": [
      "Hello\n"
     ]
    },
    {
     "name": "stderr",
     "output_type": "stream",
     "text": [
      "Matching frames:  32%|███▏      | 29/92 [00:22<00:59,  1.06it/s]"
     ]
    },
    {
     "name": "stdout",
     "output_type": "stream",
     "text": [
      "Hello\n"
     ]
    },
    {
     "name": "stderr",
     "output_type": "stream",
     "text": [
      "Matching frames:  33%|███▎      | 30/92 [00:23<00:58,  1.06it/s]"
     ]
    },
    {
     "name": "stdout",
     "output_type": "stream",
     "text": [
      "Hello\n"
     ]
    },
    {
     "name": "stderr",
     "output_type": "stream",
     "text": [
      "Matching frames:  34%|███▎      | 31/92 [00:24<00:58,  1.05it/s]"
     ]
    },
    {
     "name": "stdout",
     "output_type": "stream",
     "text": [
      "Hello\n",
      "Hello\n"
     ]
    },
    {
     "name": "stderr",
     "output_type": "stream",
     "text": [
      "Matching frames:  35%|███▍      | 32/92 [00:25<00:57,  1.04it/s]"
     ]
    },
    {
     "name": "stdout",
     "output_type": "stream",
     "text": [
      "Hello\n",
      "Hello\n"
     ]
    },
    {
     "name": "stderr",
     "output_type": "stream",
     "text": [
      "Matching frames:  36%|███▌      | 33/92 [00:26<00:56,  1.04it/s]"
     ]
    },
    {
     "name": "stdout",
     "output_type": "stream",
     "text": [
      "Hello\n"
     ]
    },
    {
     "name": "stderr",
     "output_type": "stream",
     "text": [
      "Matching frames:  37%|███▋      | 34/92 [00:27<00:56,  1.03it/s]"
     ]
    },
    {
     "name": "stdout",
     "output_type": "stream",
     "text": [
      "Hello\n"
     ]
    },
    {
     "name": "stderr",
     "output_type": "stream",
     "text": [
      "Matching frames:  37%|███▋      | 34/92 [00:28<00:47,  1.21it/s]\n"
     ]
    },
    {
     "name": "stdout",
     "output_type": "stream",
     "text": [
      "Unexpected exception formatting exception. Falling back to standard exception\n"
     ]
    },
    {
     "name": "stderr",
     "output_type": "stream",
     "text": [
      "Traceback (most recent call last):\n",
      "  File \"/home/draga/miniconda3/envs/napari-graph/lib/python3.9/site-packages/IPython/core/interactiveshell.py\", line 3378, in run_code\n",
      "    exec(code_obj, self.user_global_ns, self.user_ns)\n",
      "  File \"/tmp/ipykernel_93907/1306870860.py\", line 25, in <module>\n",
      "    match = CTCMatched(gt_data, sol_data)\n",
      "  File \"/home/draga/PhD/code/repos/cell-tracking-metrics/src/traccuracy/matchers/_matched.py\", line 21, in __init__\n",
      "    self.mapping = self.compute_mapping()\n",
      "  File \"/home/draga/PhD/code/repos/cell-tracking-metrics/src/traccuracy/matchers/_ctc.py\", line 15, in compute_mapping\n",
      "    mapping, det_matrices = self._match_ctc()\n",
      "  File \"/home/draga/PhD/code/repos/cell-tracking-metrics/src/traccuracy/matchers/_ctc.py\", line 97, in _match_ctc\n",
      "    gt_frame,\n",
      "  File \"/home/draga/PhD/code/repos/cell-tracking-metrics/src/traccuracy/matchers/_ctc.py\", line 139, in populate_det_matrix\n",
      "    frame_matrix[pred_idx, gt_idx] = is_match\n",
      "  File \"/home/draga/PhD/code/repos/cell-tracking-metrics/src/traccuracy/matchers/_ctc.py\", line 193, in detection_test\n",
      "  File \"<__array_function__ internals>\", line 180, in sum\n",
      "  File \"/home/draga/miniconda3/envs/napari-graph/lib/python3.9/site-packages/numpy/core/fromnumeric.py\", line 2296, in sum\n",
      "    return _wrapreduction(a, np.add, 'sum', axis, dtype, out, keepdims=keepdims,\n",
      "  File \"/home/draga/miniconda3/envs/napari-graph/lib/python3.9/site-packages/numpy/core/fromnumeric.py\", line 86, in _wrapreduction\n",
      "    return ufunc.reduce(obj, axis, dtype, out, **passkwargs)\n",
      "KeyboardInterrupt\n",
      "\n",
      "During handling of the above exception, another exception occurred:\n",
      "\n",
      "Traceback (most recent call last):\n",
      "  File \"/home/draga/miniconda3/envs/napari-graph/lib/python3.9/site-packages/IPython/core/interactiveshell.py\", line 1997, in showtraceback\n",
      "    stb = self.InteractiveTB.structured_traceback(\n",
      "  File \"/home/draga/miniconda3/envs/napari-graph/lib/python3.9/site-packages/IPython/core/ultratb.py\", line 1112, in structured_traceback\n",
      "    return FormattedTB.structured_traceback(\n",
      "  File \"/home/draga/miniconda3/envs/napari-graph/lib/python3.9/site-packages/IPython/core/ultratb.py\", line 1006, in structured_traceback\n",
      "    return VerboseTB.structured_traceback(\n",
      "  File \"/home/draga/miniconda3/envs/napari-graph/lib/python3.9/site-packages/IPython/core/ultratb.py\", line 859, in structured_traceback\n",
      "    formatted_exception = self.format_exception_as_a_whole(etype, evalue, etb, number_of_lines_of_context,\n",
      "  File \"/home/draga/miniconda3/envs/napari-graph/lib/python3.9/site-packages/IPython/core/ultratb.py\", line 812, in format_exception_as_a_whole\n",
      "    frames.append(self.format_record(r))\n",
      "  File \"/home/draga/miniconda3/envs/napari-graph/lib/python3.9/site-packages/IPython/core/ultratb.py\", line 730, in format_record\n",
      "    result += ''.join(_format_traceback_lines(frame_info.lines, Colors, self.has_colors, lvals))\n",
      "  File \"/home/draga/miniconda3/envs/napari-graph/lib/python3.9/site-packages/stack_data/utils.py\", line 145, in cached_property_wrapper\n",
      "    value = obj.__dict__[self.func.__name__] = self.func(obj)\n",
      "  File \"/home/draga/miniconda3/envs/napari-graph/lib/python3.9/site-packages/stack_data/core.py\", line 734, in lines\n",
      "    pieces = self.included_pieces\n",
      "  File \"/home/draga/miniconda3/envs/napari-graph/lib/python3.9/site-packages/stack_data/utils.py\", line 145, in cached_property_wrapper\n",
      "    value = obj.__dict__[self.func.__name__] = self.func(obj)\n",
      "  File \"/home/draga/miniconda3/envs/napari-graph/lib/python3.9/site-packages/stack_data/core.py\", line 681, in included_pieces\n",
      "    pos = scope_pieces.index(self.executing_piece)\n",
      "  File \"/home/draga/miniconda3/envs/napari-graph/lib/python3.9/site-packages/stack_data/utils.py\", line 145, in cached_property_wrapper\n",
      "    value = obj.__dict__[self.func.__name__] = self.func(obj)\n",
      "  File \"/home/draga/miniconda3/envs/napari-graph/lib/python3.9/site-packages/stack_data/core.py\", line 660, in executing_piece\n",
      "    return only(\n",
      "  File \"/home/draga/miniconda3/envs/napari-graph/lib/python3.9/site-packages/executing/executing.py\", line 168, in only\n",
      "    raise NotOneValueFound('Expected one value, found 0')\n",
      "executing.executing.NotOneValueFound: Expected one value, found 0\n"
     ]
    }
   ],
   "source": [
    "metrics_pth = '/home/draga/PhD/data/cell_tracking_challenge/ST_Segmentations/ctc_metrics.json'\n",
    "with open(metrics_pth, 'r') as f:\n",
    "  result_dict = json.load(f)\n",
    "for i, row in enumerate(ds_summary_df.itertuples(), 1):\n",
    "    ds_name = row.ds_name\n",
    "    seq = row.seq\n",
    "    \n",
    "    sol_dir = os.path.join(ROOT_DATA_DIR, ds_name, '{0:02}_RES/'.format(seq))\n",
    "    sol_pth = os.path.join(sol_dir, 'full_solution.graphml')\n",
    "    seg_pth = os.path.join(ROOT_DATA_DIR, ds_name, '{0:02}_ST/SEG/'.format(seq))\n",
    "    gt_pth = os.path.join(ROOT_DATA_DIR, ds_name, '{0:02}_GT/TRA/'.format(seq))\n",
    "    \n",
    "    key = f'{ds_name}_{seq}'\n",
    "    if isinstance(result_dict[key], dict):\n",
    "        print(f\"Skipping {key}. Already computed metrics.\")\n",
    "        continue\n",
    "    if not os.path.exists(sol_pth):\n",
    "        result_dict[key] = None\n",
    "    else:\n",
    "        print(f\"Computing {ds_name} sequence {seq}\")\n",
    "        try:\n",
    "            sol_data = load_sol(sol_pth, seg_pth)\n",
    "            gt_data = load_ctc_data(gt_pth)\n",
    "\n",
    "            match = CTCMatched(gt_data, sol_data)\n",
    "            raw_ctc = CTCMetrics(match).results\n",
    "            result_dict[key] = raw_ctc\n",
    "        except Exception as e:\n",
    "            result_dict[key] = str(e)\n",
    "    with open(metrics_pth, 'w') as f:\n",
    "        json.dump(result_dict, f)\n"
   ]
  }
 ],
 "metadata": {
  "kernelspec": {
   "display_name": "napari-graph",
   "language": "python",
   "name": "python3"
  },
  "language_info": {
   "codemirror_mode": {
    "name": "ipython",
    "version": 3
   },
   "file_extension": ".py",
   "mimetype": "text/x-python",
   "name": "python",
   "nbconvert_exporter": "python",
   "pygments_lexer": "ipython3",
   "version": "3.9.13"
  },
  "orig_nbformat": 2
 },
 "nbformat": 4,
 "nbformat_minor": 2
}
